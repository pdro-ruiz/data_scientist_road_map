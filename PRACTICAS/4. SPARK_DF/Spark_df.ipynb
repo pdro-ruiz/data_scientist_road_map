{
 "cells": [
  {
   "cell_type": "markdown",
   "metadata": {
    "id": "FnznRtUFNu61"
   },
   "source": [
    "# Ejercicios Spark DataFrames "
   ]
  },
  {
   "cell_type": "markdown",
   "metadata": {
    "id": "I1K0wzkbNu67"
   },
   "source": [
    "Vamos a practicar un poco con tus nuevas habilidades de Spark DataFrame, se te harán algunas preguntas básicas sobre algunos datos del mercado de valores, en este caso Walmart Stock de los años 2012-2017. \n",
    "\n",
    "Responde a las preguntas y completa las tareas de abajo."
   ]
  },
  {
   "cell_type": "markdown",
   "metadata": {
    "id": "-gzJ_mbnNu69"
   },
   "source": [
    "#### ¡Utiliza el archivo walmart_stock.csv para responder y completar las tareas siguientes!"
   ]
  },
  {
   "cell_type": "markdown",
   "metadata": {
    "id": "ebXh31euNu6-"
   },
   "source": [
    "#### Iniciar una sesión de Spark"
   ]
  },
  {
   "cell_type": "code",
   "execution_count": 1,
   "metadata": {
    "id": "rUGerTTqNu6-",
    "tags": []
   },
   "outputs": [],
   "source": [
    "from pyspark.sql import SparkSession\n",
    "from pyspark.sql.functions import *\n",
    "import datetime\n",
    "\n",
    "spark = SparkSession.builder.appName(\"Basic spark df exercise\").getOrCreate()       # Creamos una sesion de spark"
   ]
  },
  {
   "cell_type": "markdown",
   "metadata": {
    "id": "RWBcRROiNu7A"
   },
   "source": [
    "#### Cargar el archivo CSV de Walmart Stock, hacer que Spark infiera los tipos de datos."
   ]
  },
  {
   "cell_type": "code",
   "execution_count": 2,
   "metadata": {
    "id": "c2B0YyyuNu7B",
    "tags": []
   },
   "outputs": [
    {
     "name": "stdout",
     "output_type": "stream",
     "text": [
      "+----------+------------------+------------------+------------------+------------------+--------+------------------+\n",
      "|      Date|              Open|              High|               Low|             Close|  Volume|         Adj Close|\n",
      "+----------+------------------+------------------+------------------+------------------+--------+------------------+\n",
      "|2012-01-03|         59.970001|         61.060001|         59.869999|         60.330002|12668800|52.619234999999996|\n",
      "|2012-01-04|60.209998999999996|         60.349998|         59.470001|59.709998999999996| 9593300|         52.078475|\n",
      "|2012-01-05|         59.349998|         59.619999|         58.369999|         59.419998|12768200|         51.825539|\n",
      "|2012-01-06|         59.419998|         59.450001|         58.869999|              59.0| 8069400|          51.45922|\n",
      "|2012-01-09|         59.029999|         59.549999|         58.919998|             59.18| 6679300|51.616215000000004|\n",
      "|2012-01-10|             59.43|59.709998999999996|             58.98|59.040001000000004| 6907300|         51.494109|\n",
      "|2012-01-11|         59.060001|         59.529999|59.040001000000004|         59.400002| 6365600|         51.808098|\n",
      "|2012-01-12|59.790001000000004|              60.0|         59.400002|              59.5| 7236400|51.895315999999994|\n",
      "|2012-01-13|             59.18|59.610001000000004|59.009997999999996|59.540001000000004| 7729300|51.930203999999996|\n",
      "|2012-01-17|         59.869999|60.110001000000004|             59.52|         59.849998| 8500000|         52.200581|\n",
      "|2012-01-18|59.790001000000004|         60.029999|         59.650002|60.009997999999996| 5911400|         52.340131|\n",
      "|2012-01-19|             59.93|             60.73|             59.75|60.610001000000004| 9234600|         52.863447|\n",
      "|2012-01-20|             60.75|             61.25|         60.669998|61.009997999999996|10378800|53.212320999999996|\n",
      "|2012-01-23|         60.810001|             60.98|60.509997999999996|             60.91| 7134100|         53.125104|\n",
      "|2012-01-24|             60.75|              62.0|             60.75|61.389998999999996| 7362800| 53.54375400000001|\n",
      "|2012-01-25|             61.18|61.610001000000004|61.040001000000004|         61.470001| 5915800| 53.61353100000001|\n",
      "|2012-01-26|         61.799999|             61.84|             60.77|         60.970001| 7436200|         53.177436|\n",
      "|2012-01-27|60.860001000000004|         61.119999|60.540001000000004|60.709998999999996| 6287300|         52.950665|\n",
      "|2012-01-30|         60.470001|             61.32|         60.349998|         61.299999| 7636900|53.465256999999994|\n",
      "|2012-01-31|         61.529999|             61.57|         60.580002|61.360001000000004| 9761500|53.517590000000006|\n",
      "+----------+------------------+------------------+------------------+------------------+--------+------------------+\n",
      "only showing top 20 rows\n",
      "\n"
     ]
    }
   ],
   "source": [
    "df = spark.read.csv(\"data/walmart_stock.csv\", header=True, inferSchema=True)\n",
    "df.show()"
   ]
  },
  {
   "cell_type": "markdown",
   "metadata": {
    "id": "h70LNQRYNu7B"
   },
   "source": [
    "#### ¿Cuáles son los nombres de las columnas?"
   ]
  },
  {
   "cell_type": "code",
   "execution_count": 3,
   "metadata": {
    "collapsed": false,
    "id": "AbNGYigWNu7C",
    "jupyter": {
     "outputs_hidden": false
    },
    "outputId": "75cd528c-c980-4b5d-b18e-852e92c52f3d"
   },
   "outputs": [
    {
     "name": "stdout",
     "output_type": "stream",
     "text": [
      "['Date', 'Open', 'High', 'Low', 'Close', 'Volume', 'Adj Close']\n"
     ]
    }
   ],
   "source": [
    "print(df.columns)"
   ]
  },
  {
   "cell_type": "markdown",
   "metadata": {
    "id": "0KoNyBS7Nu7E"
   },
   "source": [
    "#### ¿Qué aspecto tiene el esquema?"
   ]
  },
  {
   "cell_type": "code",
   "execution_count": 4,
   "metadata": {
    "collapsed": false,
    "id": "-IuyBuhxNu7F",
    "jupyter": {
     "outputs_hidden": false
    },
    "outputId": "dbba890c-6962-4d83-dc24-ca3bbbd68fe7"
   },
   "outputs": [
    {
     "name": "stdout",
     "output_type": "stream",
     "text": [
      "root\n",
      " |-- Date: date (nullable = true)\n",
      " |-- Open: double (nullable = true)\n",
      " |-- High: double (nullable = true)\n",
      " |-- Low: double (nullable = true)\n",
      " |-- Close: double (nullable = true)\n",
      " |-- Volume: integer (nullable = true)\n",
      " |-- Adj Close: double (nullable = true)\n",
      "\n"
     ]
    }
   ],
   "source": [
    "df.printSchema()"
   ]
  },
  {
   "cell_type": "markdown",
   "metadata": {
    "id": "XfOEgW2RNu7F"
   },
   "source": [
    "#### Imprime las 5 primeras columnas."
   ]
  },
  {
   "cell_type": "code",
   "execution_count": 5,
   "metadata": {
    "collapsed": false,
    "id": "_gXxO-VQNu7F",
    "jupyter": {
     "outputs_hidden": false
    },
    "outputId": "59892f74-ff4b-44a2-da20-e7c27a0c1778"
   },
   "outputs": [
    {
     "data": {
      "text/plain": [
       "[Row(Date=datetime.date(2012, 1, 3), Open=59.970001, High=61.060001, Low=59.869999, Close=60.330002, Volume=12668800, Adj Close=52.619234999999996),\n",
       " Row(Date=datetime.date(2012, 1, 4), Open=60.209998999999996, High=60.349998, Low=59.470001, Close=59.709998999999996, Volume=9593300, Adj Close=52.078475),\n",
       " Row(Date=datetime.date(2012, 1, 5), Open=59.349998, High=59.619999, Low=58.369999, Close=59.419998, Volume=12768200, Adj Close=51.825539),\n",
       " Row(Date=datetime.date(2012, 1, 6), Open=59.419998, High=59.450001, Low=58.869999, Close=59.0, Volume=8069400, Adj Close=51.45922),\n",
       " Row(Date=datetime.date(2012, 1, 9), Open=59.029999, High=59.549999, Low=58.919998, Close=59.18, Volume=6679300, Adj Close=51.616215000000004)]"
      ]
     },
     "execution_count": 5,
     "metadata": {},
     "output_type": "execute_result"
    }
   ],
   "source": [
    "df.take(5)"
   ]
  },
  {
   "cell_type": "markdown",
   "metadata": {
    "id": "tLu4zTcCNu7G"
   },
   "source": [
    "#### Utiliza describe() para conocer el DataFrame."
   ]
  },
  {
   "cell_type": "code",
   "execution_count": 6,
   "metadata": {
    "collapsed": false,
    "id": "M-jraTKHNu7G",
    "jupyter": {
     "outputs_hidden": false
    },
    "outputId": "5d5e885c-765e-48c5-f356-c304859c79d3"
   },
   "outputs": [
    {
     "name": "stdout",
     "output_type": "stream",
     "text": [
      "+-------+------------------+-----------------+-----------------+-----------------+-----------------+-----------------+\n",
      "|summary|              Open|             High|              Low|            Close|           Volume|        Adj Close|\n",
      "+-------+------------------+-----------------+-----------------+-----------------+-----------------+-----------------+\n",
      "|  count|              1258|             1258|             1258|             1258|             1258|             1258|\n",
      "|   mean| 72.35785375357709|72.83938807631165| 71.9186009594594|72.38844998012726|8222093.481717011|67.23883848728146|\n",
      "| stddev|  6.76809024470826|6.768186808159218|6.744075756255496|6.756859163732991|  4519780.8431556|6.722609449996857|\n",
      "|    min|56.389998999999996|        57.060001|        56.299999|        56.419998|          2094900|        50.363689|\n",
      "|    max|         90.800003|        90.970001|            89.25|        90.470001|         80898100|84.91421600000001|\n",
      "+-------+------------------+-----------------+-----------------+-----------------+-----------------+-----------------+\n",
      "\n"
     ]
    }
   ],
   "source": [
    "df.describe().show()    "
   ]
  },
  {
   "cell_type": "markdown",
   "metadata": {
    "id": "1emqCvgnNu7H"
   },
   "source": [
    "#### Hay demasiados decimales para la media y el stddev en describe(). Formatea los números para que sólo se muestren hasta dos decimales. Presta atención a los tipos de datos que devuelve .describe()"
   ]
  },
  {
   "cell_type": "code",
   "execution_count": 7,
   "metadata": {
    "id": "a5d1ERhmNu7I",
    "tags": []
   },
   "outputs": [
    {
     "name": "stdout",
     "output_type": "stream",
     "text": [
      "+-------+--------+--------+--------+--------+-------------+\n",
      "|summary|    Open|    High|     Low|   Close|       Volume|\n",
      "+-------+--------+--------+--------+--------+-------------+\n",
      "|  count|1,258.00|1,258.00|1,258.00|1,258.00|     1,258.00|\n",
      "|   mean|   72.36|   72.84|   71.92|   72.39| 8,222,093.50|\n",
      "| stddev|    6.77|    6.77|    6.74|    6.76| 4,519,781.00|\n",
      "|    min|   56.39|   57.06|   56.30|   56.42| 2,094,900.00|\n",
      "|    max|   90.80|   90.97|   89.25|   90.47|80,898,096.00|\n",
      "+-------+--------+--------+--------+--------+-------------+\n",
      "\n"
     ]
    }
   ],
   "source": [
    "summary = df.describe()\n",
    "\n",
    "summary = summary.withColumn(\"Open\", format_number(col(\"Open\").cast(\"float\"), 2))       # Damos formato a los numeros casteandolos con 2 decimales\n",
    "summary = summary.withColumn(\"High\", format_number(col(\"High\").cast(\"float\"), 2))\n",
    "summary = summary.withColumn(\"Low\", format_number(col(\"Low\").cast(\"float\"), 2))\n",
    "summary = summary.withColumn(\"Close\", format_number(col(\"Close\").cast(\"float\"), 2))\n",
    "summary = summary.withColumn(\"Volume\", format_number(col(\"Volume\").cast(\"float\"), 2))\n",
    "\n",
    "summary.select(\"summary\", \"Open\", \"High\", \"Low\", \"Close\", \"Volume\").show()              # adecuamos el formato de salida "
   ]
  },
  {
   "cell_type": "markdown",
   "metadata": {
    "id": "f5fs3ieVNu7J"
   },
   "source": [
    "#### Crea un nuevo dataframe con una columna llamada HV Ratio que es la relación entre el precio máximo y el volumen de las acciones negociadas durante un día."
   ]
  },
  {
   "cell_type": "code",
   "execution_count": 8,
   "metadata": {},
   "outputs": [
    {
     "name": "stdout",
     "output_type": "stream",
     "text": [
      "+--------------------+\n",
      "|            HV Ratio|\n",
      "+--------------------+\n",
      "|4.819714653321546E-6|\n",
      "|6.290848613094555E-6|\n",
      "|4.669412994783916E-6|\n",
      "|7.367338463826307E-6|\n",
      "|8.915604778943901E-6|\n",
      "|8.644477436914568E-6|\n",
      "|9.351828421515645E-6|\n",
      "| 8.29141562102703E-6|\n",
      "|7.712212102001476E-6|\n",
      "|7.071764823529412E-6|\n",
      "|1.015495466386981E-5|\n",
      "|6.576354146362592...|\n",
      "| 5.90145296180676E-6|\n",
      "|8.547679455011844E-6|\n",
      "|8.420709512685392E-6|\n",
      "|1.041448341728929...|\n",
      "|8.316075414862431E-6|\n",
      "|9.721183814992126E-6|\n",
      "|8.029436027707578E-6|\n",
      "|6.307432259386365E-6|\n",
      "+--------------------+\n",
      "only showing top 20 rows\n",
      "\n"
     ]
    }
   ],
   "source": [
    "df = df.withColumn(\"HV Ratio\", df[\"High\"]/df[\"Volume\"])\n",
    "df.select(\"HV Ratio\").show()"
   ]
  },
  {
   "cell_type": "markdown",
   "metadata": {
    "id": "kxUpsEt9Nu7K"
   },
   "source": [
    "#### ¿Qué día hubo el pico máximo en el precio?"
   ]
  },
  {
   "cell_type": "code",
   "execution_count": 9,
   "metadata": {},
   "outputs": [
    {
     "data": {
      "text/plain": [
       "datetime.datetime(2015, 1, 13, 0, 0)"
      ]
     },
     "execution_count": 9,
     "metadata": {},
     "output_type": "execute_result"
    }
   ],
   "source": [
    "df_cierre = df.orderBy(df['High'].desc()).select('Date').first()                                # Seleccionamos la fecha del dia con el cierre mas alto\n",
    "\n",
    "dia_cierre_max = datetime.datetime.combine(df_cierre['Date'], datetime.datetime.min.time())     # convertimos la fecha a datetime\n",
    "\n",
    "dia_cierre_max                                                                                  # me ha costado dar con el formato correcto para mostrar la fecha :D                           "
   ]
  },
  {
   "cell_type": "markdown",
   "metadata": {
    "id": "CyHKY50LNu7M"
   },
   "source": [
    "#### ¿Cuál es la media de la columna Close?"
   ]
  },
  {
   "cell_type": "code",
   "execution_count": 10,
   "metadata": {},
   "outputs": [
    {
     "name": "stdout",
     "output_type": "stream",
     "text": [
      "+-----------------+\n",
      "|       avg(Close)|\n",
      "+-----------------+\n",
      "|72.38844998012726|\n",
      "+-----------------+\n",
      "\n"
     ]
    }
   ],
   "source": [
    "df.select(avg(\"Close\")).show()"
   ]
  },
  {
   "cell_type": "markdown",
   "metadata": {
    "id": "171nemhsNu7N"
   },
   "source": [
    "#### ¿Cuál es el máximo y el mínimo de la columna Volumen?"
   ]
  },
  {
   "cell_type": "code",
   "execution_count": 11,
   "metadata": {},
   "outputs": [
    {
     "name": "stdout",
     "output_type": "stream",
     "text": [
      "+-----------+-----------+\n",
      "|max(Volume)|min(Volume)|\n",
      "+-----------+-----------+\n",
      "|   80898100|    2094900|\n",
      "+-----------+-----------+\n",
      "\n"
     ]
    }
   ],
   "source": [
    "df.select(max(\"Volume\"), min(\"Volume\")).show()"
   ]
  },
  {
   "cell_type": "markdown",
   "metadata": {
    "id": "-PXzvUKfNu7O"
   },
   "source": [
    "#### ¿Cuántos días estuvo el cierre por debajo de los 60 dólares?"
   ]
  },
  {
   "cell_type": "code",
   "execution_count": 12,
   "metadata": {},
   "outputs": [
    {
     "name": "stdout",
     "output_type": "stream",
     "text": [
      "81\n"
     ]
    }
   ],
   "source": [
    "menos_60 = df.filter(df[\"Close\"] < 60).count()\n",
    "print(menos_60)"
   ]
  },
  {
   "cell_type": "markdown",
   "metadata": {
    "id": "GWDFrgsuNu7P"
   },
   "source": [
    "#### ¿Qué porcentaje de veces el Máximo fue superior a 80 dólares?\n",
    "#### En otras palabras, (Número de días de máximos>80)/(Días totales en el conjunto de datos)"
   ]
  },
  {
   "cell_type": "code",
   "execution_count": 13,
   "metadata": {},
   "outputs": [
    {
     "name": "stdout",
     "output_type": "stream",
     "text": [
      "9.141494435612083\n"
     ]
    }
   ],
   "source": [
    "mas_80 = df.filter(df[\"High\"] > 80).count()\n",
    "dias_totales = df.count()\n",
    "\n",
    "perc = (mas_80/dias_totales)*100\n",
    "print(perc)"
   ]
  },
  {
   "cell_type": "markdown",
   "metadata": {
    "id": "A2xe4ehZNu7Q"
   },
   "source": [
    "#### ¿Cuál es la correlación de Pearson entre High y Volume?"
   ]
  },
  {
   "cell_type": "code",
   "execution_count": 28,
   "metadata": {
    "collapsed": false,
    "id": "_77172LgNu7R",
    "jupyter": {
     "outputs_hidden": false
    },
    "outputId": "380dc819-7400-4236-cccb-baffdd6ef7b2"
   },
   "outputs": [
    {
     "name": "stdout",
     "output_type": "stream",
     "text": [
      "-0.3384326061737161\n"
     ]
    }
   ],
   "source": [
    "corr = df.stat.corr('High', 'Volume')\n",
    "print(corr)"
   ]
  },
  {
   "cell_type": "markdown",
   "metadata": {
    "id": "gwSPnjszNu7R"
   },
   "source": [
    "#### ¿Cuál es el valor máximo de High por año?"
   ]
  },
  {
   "cell_type": "code",
   "execution_count": 20,
   "metadata": {},
   "outputs": [
    {
     "name": "stdout",
     "output_type": "stream",
     "text": [
      "+----+---------+\n",
      "|Year|max(High)|\n",
      "+----+---------+\n",
      "|2015|90.970001|\n",
      "|2013|81.370003|\n",
      "|2014|88.089996|\n",
      "|2012|77.599998|\n",
      "|2016|75.190002|\n",
      "+----+---------+\n",
      "\n"
     ]
    }
   ],
   "source": [
    "df = df.withColumn('Year', year(df['Date']))                # Añadimos una nueva columna con el año\n",
    "\n",
    "df_max_high_por_año = df.groupBy('Year').max('High')        # Agrupamos por año y calculamos el máximo\n",
    "\n",
    "df_max_high_por_año.show()"
   ]
  },
  {
   "cell_type": "markdown",
   "metadata": {
    "id": "atYw5-lmNu7S"
   },
   "source": [
    "#### ¿Cuál es el cierre medio de cada mes del calendario?\n",
    "#### En otras palabras, a lo largo de todos los años, ¿cuál es el precio medio de cierre para enero, febrero, marzo, etc.? Su resultado tendrá un valor para cada uno de estos meses. "
   ]
  },
  {
   "cell_type": "code",
   "execution_count": 21,
   "metadata": {},
   "outputs": [
    {
     "name": "stdout",
     "output_type": "stream",
     "text": [
      "+-----+-----------------+\n",
      "|Month|       avg(Close)|\n",
      "+-----+-----------------+\n",
      "|    1|71.44801958415842|\n",
      "|    2|  71.306804443299|\n",
      "|    3|71.77794377570092|\n",
      "|    4|72.97361900952382|\n",
      "|    5|72.30971688679247|\n",
      "|    6| 72.4953774245283|\n",
      "|    7|74.43971943925233|\n",
      "|    8|73.02981855454546|\n",
      "|    9|72.18411785294116|\n",
      "|   10|71.57854545454543|\n",
      "|   11| 72.1110893069307|\n",
      "|   12|72.84792478301885|\n",
      "+-----+-----------------+\n",
      "\n"
     ]
    }
   ],
   "source": [
    "df = df.withColumn('Month', month(df['Date']))                                  # Selecionamos el mes de la columna fecha\n",
    "\n",
    "avg_close_por_mes = df.groupBy('Month').avg('Close')                            # agrupamos por mes y calculamos la media del cierre\n",
    "avg_close_por_mes = avg_close_por_mes.orderBy('Month', ascending=True)          # ordenamos por mes\n",
    "\n",
    "avg_close_por_mes.show()"
   ]
  }
 ],
 "metadata": {
  "anaconda-cloud": {},
  "colab": {
   "provenance": []
  },
  "kernelspec": {
   "display_name": "Python 3 (ipykernel)",
   "language": "python",
   "name": "python3"
  },
  "language_info": {
   "codemirror_mode": {
    "name": "ipython",
    "version": 3
   },
   "file_extension": ".py",
   "mimetype": "text/x-python",
   "name": "python",
   "nbconvert_exporter": "python",
   "pygments_lexer": "ipython3",
   "version": "3.8.19"
  }
 },
 "nbformat": 4,
 "nbformat_minor": 4
}
